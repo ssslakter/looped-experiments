{
 "cells": [
  {
   "cell_type": "code",
   "execution_count": null,
   "metadata": {},
   "outputs": [],
   "source": [
    "import torch\n",
    "from fastprogress import master_bar, progress_bar"
   ]
  },
  {
   "cell_type": "code",
   "execution_count": null,
   "metadata": {},
   "outputs": [],
   "source": [
    "def default_device():\n",
    "    is_cuda = torch.cuda.is_available()\n",
    "    return torch.device(\"cuda\" if is_cuda else \"cpu\")\n",
    "\n",
    "\n",
    "class ToDeviceCB:\n",
    "    def __init__(self, device=default_device()): self.device = device\n",
    "\n",
    "    def before_batch(self, learner):\n",
    "        learner.xb, learner.yb = learner.xb.to(self.device), learner.yb.to(self.device)\n",
    "\n",
    "\n",
    "class with_cbs:\n",
    "    def __init__(self, nm): self.nm = nm\n",
    "\n",
    "    def __call__(self, f):\n",
    "        def _f(o, *args, **kwargs):\n",
    "            o.callback(f'before_{self.nm}')\n",
    "            f(o, *args, **kwargs)\n",
    "            o.callback(f'after_{self.nm}')\n",
    "        return _f\n",
    "\n",
    "DEFAULT_CBS = [ToDeviceCB()]\n",
    "\n",
    "class Learner:\n",
    "    def __init__(self, model, dl_train, dl_test, n_epoch, optimizer=None, loss_fn=F.mse_loss, lr=1e-3, cbs=DEFAULT_CBS):\n",
    "        self.model, self.dl_train, self.dl_test, self.n_epoch, self.optimizer, self.loss_fn, self.lr, self.cbs \\\n",
    "            = model, dl_train, dl_test, n_epoch, optimizer, loss_fn, lr, cbs\n",
    "\n",
    "    def fit(self):\n",
    "        self.mb = master_bar(range(self.n_epoch))\n",
    "        for i in self.mb:\n",
    "            self.one_epoch(True)\n",
    "            print(f\"Epoch {i}: {self.loss.item()}\")\n",
    "            torch.no_grad()(self.one_epoch)(False)\n",
    "            print(f\"Test loss: {self.loss.item()}\")\n",
    "\n",
    "    def one_epoch(self, training):\n",
    "        self.model.train(training)\n",
    "        dl = self.dl_train if training else self.dl_test\n",
    "        for b in progress_bar(dl, parent=self.mb, total=len(dl.dataset)):\n",
    "            self.xb, self.yb = b\n",
    "            self.one_batch()\n",
    "\n",
    "    @with_cbs(\"batch\")\n",
    "    def one_batch(self):\n",
    "        y_hat = self.model(self.xb)\n",
    "        self.loss = self.loss_fn(y_hat, self.yb)\n",
    "        if self.model.training:\n",
    "            self.loss.backward()\n",
    "            self.optimizer.step()\n",
    "            self.optimizer.zero_grad()\n",
    "\n",
    "    def callback(self, nm):\n",
    "        if self.cbs is not None:\n",
    "            for cb in self.cbs: getattr(cb, nm)(self)"
   ]
  }
 ],
 "metadata": {
  "kernelspec": {
   "display_name": "python3",
   "language": "python",
   "name": "python3"
  }
 },
 "nbformat": 4,
 "nbformat_minor": 2
}
