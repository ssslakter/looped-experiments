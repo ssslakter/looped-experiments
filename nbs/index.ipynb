{
 "cells": [
  {
   "cell_type": "markdown",
   "metadata": {},
   "source": [
    "# looped-experiments\n",
    "\n",
    "> "
   ]
  },
  {
   "cell_type": "markdown",
   "metadata": {},
   "source": [
    "This repository contains experiments based on [looped-transformer paper](https://arxiv.org/abs/2311.12424)"
   ]
  },
  {
   "cell_type": "markdown",
   "metadata": {},
   "source": [
    "## Installation"
   ]
  },
  {
   "cell_type": "markdown",
   "metadata": {},
   "source": [
    "```sh\n",
    "pip install git+https://github.com/ssslakter/looped-experiments.git\n",
    "```"
   ]
  },
  {
   "cell_type": "markdown",
   "metadata": {},
   "source": [
    "or for editable installation\n",
    "```sh\n",
    "git clone https://github.com/ssslakter/looped-experiments.git\n",
    "cd looped-experiments\n",
    "pip install -e .\n",
    "```"
   ]
  },
  {
   "cell_type": "markdown",
   "metadata": {},
   "source": [
    "### Notes\n",
    "If you use google colab run command below to update fastprogress to the working version\n",
    "```sh\n",
    "!pip install -I git+https://github.com/fastai/fastprogress.git\n",
    "```"
   ]
  },
  {
   "cell_type": "markdown",
   "metadata": {},
   "source": [
    "## How to run\n",
    "To train models, run after installing the package\n",
    "```sh\n",
    "python main.py --help\n",
    "```\n",
    "this will show you the config options you can use to run experiments."
   ]
  }
 ],
 "metadata": {
  "kernelspec": {
   "display_name": "python3",
   "language": "python",
   "name": "python3"
  }
 },
 "nbformat": 4,
 "nbformat_minor": 4
}
