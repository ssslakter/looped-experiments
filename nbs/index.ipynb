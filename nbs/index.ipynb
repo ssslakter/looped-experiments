{
 "cells": [
  {
   "cell_type": "markdown",
   "metadata": {},
   "source": [
    "# looped-experiments\n",
    "\n",
    "> "
   ]
  },
  {
   "cell_type": "markdown",
   "metadata": {},
   "source": [
    "⚠ For LLM Foundations task report see: [T-README.md](./T-README.md) (RU) !\n",
    "\n",
    "This repository contains experiments that try to reproduce [looped-transformer paper](https://arxiv.org/abs/2311.12424) and test models performance with different modifications."
   ]
  },
  {
   "cell_type": "markdown",
   "metadata": {},
   "source": [
    "## Installation"
   ]
  },
  {
   "cell_type": "markdown",
   "metadata": {},
   "source": [
    "```sh\n",
    "pip install git+https://github.com/ssslakter/looped-experiments.git\n",
    "```\n",
    "or to also get notebooks\n",
    "```sh\n",
    "git clone https://github.com/ssslakter/looped-experiments.git\n",
    "cd looped-experiments\n",
    "pip install -e .\n",
    "```"
   ]
  },
  {
   "cell_type": "markdown",
   "metadata": {},
   "source": [
    "### Notes\n",
    "If you use google colab run command below to update fastprogress to the working version\n",
    "```sh\n",
    "!pip install -I git+https://github.com/fastai/fastprogress.git\n",
    "```"
   ]
  },
  {
   "cell_type": "markdown",
   "metadata": {},
   "source": [
    "## How to run\n",
    "To train models, run after installing the package\n",
    "```sh\n",
    "looped-run --help\n",
    "```\n",
    "this will show you the config options you can use to run experiments.\n",
    "\n",
    "If you cloned the repository you can also use shell scripts like below to run experiments\n",
    "```sh\n",
    "./scripts/loop.sh\n",
    "```"
   ]
  }
 ],
 "metadata": {
  "kernelspec": {
   "display_name": "python3",
   "language": "python",
   "name": "python3"
  }
 },
 "nbformat": 4,
 "nbformat_minor": 4
}
