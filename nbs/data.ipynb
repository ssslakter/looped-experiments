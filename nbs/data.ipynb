{
 "cells": [
  {
   "cell_type": "code",
   "execution_count": null,
   "metadata": {},
   "outputs": [],
   "source": [
    "# | default_exp data"
   ]
  },
  {
   "cell_type": "code",
   "execution_count": null,
   "metadata": {},
   "outputs": [],
   "source": [
    "# | export\n",
    "import fastcore.all as fc\n",
    "import torch\n",
    "from torch.utils.data import DataLoader, IterableDataset\n"
   ]
  },
  {
   "cell_type": "code",
   "execution_count": null,
   "metadata": {},
   "outputs": [],
   "source": [
    "# | hide\n",
    "from functools import partial\n",
    "\n",
    "import matplotlib.pyplot as plt\n",
    "from torch import nn"
   ]
  },
  {
   "cell_type": "code",
   "execution_count": null,
   "metadata": {},
   "outputs": [],
   "source": [
    "# | export\n",
    "class DataGenerator(IterableDataset):\n",
    "    def __init__(self, n_batches, batch_generator):\n",
    "        self.batch_generator = batch_generator\n",
    "        self.n_batches = n_batches\n",
    "        self.cnt = 0\n",
    "\n",
    "    def __iter__(self):\n",
    "        self.cnt = 0\n",
    "        return self\n",
    "\n",
    "    def __next__(self):\n",
    "        if self.cnt >= self.n_batches: raise StopIteration\n",
    "        self.cnt += 1\n",
    "        return self.batch_generator()\n",
    "\n",
    "\n",
    "@fc.delegates(DataLoader)\n",
    "def dataloader(batch_generator, n_samples, **kwargs):\n",
    "    return DataLoader(DataGenerator(n_samples // batch_generator.bs, batch_generator), batch_size=None, **kwargs)"
   ]
  },
  {
   "cell_type": "markdown",
   "metadata": {},
   "source": [
    "### Tasks"
   ]
  },
  {
   "cell_type": "code",
   "execution_count": null,
   "metadata": {},
   "outputs": [],
   "source": [
    "# | export\n",
    "class LinearRegression:\n",
    "    def __init__(self, bs, n_points=20, n_dim=10, std=0.1):\n",
    "        self.bs, self.n_points, self.n_dim, self.std = bs, n_points, n_dim, std\n",
    "\n",
    "    def __call__(self):\n",
    "        xs = torch.randn(self.bs, self.n_points, self.n_dim)\n",
    "        ws = torch.randn(self.bs, self.n_dim, 1)\n",
    "        ys = torch.bmm(xs, ws).squeeze(-1)\n",
    "        return xs, ys + self.std * torch.randn_like(ys)"
   ]
  },
  {
   "cell_type": "code",
   "execution_count": null,
   "metadata": {},
   "outputs": [],
   "source": [
    "dl = dataloader(LinearRegression(bs=4, n_points=20, n_dim=1, std=0.1), 10)"
   ]
  },
  {
   "cell_type": "code",
   "execution_count": null,
   "metadata": {},
   "outputs": [],
   "source": [
    "xb, yb = next(iter(dl))"
   ]
  },
  {
   "cell_type": "code",
   "execution_count": null,
   "metadata": {},
   "outputs": [
    {
     "data": {
      "text/plain": [
       "<matplotlib.collections.PathCollection>"
      ]
     },
     "execution_count": null,
     "metadata": {},
     "output_type": "execute_result"
    },
    {
     "data": {
      "image/png": "[encoded data removed]",
      "text/plain": [
       "<Figure size 640x480 with 1 Axes>"
      ]
     },
     "metadata": {},
     "output_type": "display_data"
    }
   ],
   "source": [
    "plt.scatter(xb[0], yb[0])"
   ]
  }
 ],
 "metadata": {
  "kernelspec": {
   "display_name": "python3",
   "language": "python",
   "name": "python3"
  }
 },
 "nbformat": 4,
 "nbformat_minor": 2
}
